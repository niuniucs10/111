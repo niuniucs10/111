{
 "cells": [
  {
   "cell_type": "code",
   "execution_count": 1,
   "id": "e191a041-8cff-4df8-bee1-4739b7ebfe10",
   "metadata": {
    "tags": []
   },
   "outputs": [],
   "source": [
    "import torch\n",
    "import numpy as np\n",
    "import scanpy as sc\n",
    "from datasets import load_from_disk\n",
    "from geneformer.pretrainer import token_dictionary\n",
    "from transformers import BertForSequenceClassification"
   ]
  },
  {
   "cell_type": "code",
   "execution_count": 22,
   "id": "cec831b5-41f4-4213-b4f5-b263e485a02c",
   "metadata": {
    "tags": []
   },
   "outputs": [],
   "source": [
    "def trunc_and_pad_input_id(x, max_len=2048, pad_token_id=0):\n",
    "    input_id = torch.tensor(x['input_ids'])\n",
    "    length = x['length']\n",
    "    input_id = input_id[0:max_len] if length > max_len else input_id # 截断\n",
    "    input_ids_pad = torch.nn.functional.pad(input_id, \n",
    "                                            pad=(0, max_len - input_id.numel()), \n",
    "                                            mode='constant', \n",
    "                                            value=pad_token_id)\n",
    "    return {'input_ids_pad': input_ids_pad}\n",
    "\n",
    "def collate_fn(data):\n",
    "    input_ids = [np.array(i['input_ids_pad']) for i in data]\n",
    "    # 转换为tensor\n",
    "    input_ids = torch.tensor(np.array(input_ids), dtype=torch.int32)\n",
    "    attention_mask = (input_ids > 0).to(torch.int32)\n",
    "    return input_ids, attention_mask"
   ]
  },
  {
   "cell_type": "code",
   "execution_count": 3,
   "id": "bae4ab17-6c96-4f4d-821f-f0cf4c477cd3",
   "metadata": {
    "tags": []
   },
   "outputs": [],
   "source": [
    "## Load model\n",
    "model = BertForSequenceClassification.from_pretrained(\n",
    "    \"./finetuned-models/231203_geneformer_CellClassifier_iPSC_L2048_B12_LR5e-05_LSlinear_WU500_E2_Oadamw_F0/checkpoint-10715/\", \n",
    "    output_hidden_states=True, \n",
    "    output_attentions=False)\n",
    "model.eval()\n",
    "None"
   ]
  },
  {
   "cell_type": "code",
   "execution_count": 5,
   "id": "8053c416-0b67-424a-996e-7d41147ee95c",
   "metadata": {
    "tags": []
   },
   "outputs": [
    {
     "data": {
      "application/vnd.jupyter.widget-view+json": {
       "model_id": "217cf8fdf00547ca921c5decd21af7ef",
       "version_major": 2,
       "version_minor": 0
      },
      "text/plain": [
       "Filter:   0%|          | 0/32138 [00:00<?, ? examples/s]"
      ]
     },
     "metadata": {},
     "output_type": "display_data"
    },
    {
     "data": {
      "application/vnd.jupyter.widget-view+json": {
       "model_id": "520aa2f945aa419a930b997f45a7d9ab",
       "version_major": 2,
       "version_minor": 0
      },
      "text/plain": [
       "Map (num_proc=4):   0%|          | 0/9737 [00:00<?, ? examples/s]"
      ]
     },
     "metadata": {},
     "output_type": "display_data"
    },
    {
     "name": "stderr",
     "output_type": "stream",
     "text": [
      "/home/jarning/miniconda3/envs/Geneformer-env/lib/python3.11/site-packages/datasets/table.py:1421: FutureWarning: promote has been superseded by mode='default'.\n",
      "  table = cls._concat_blocks(blocks, axis=0)\n"
     ]
    },
    {
     "data": {
      "application/vnd.jupyter.widget-view+json": {
       "model_id": "b559a470e9a64f33bc5c31be20cfe1f1",
       "version_major": 2,
       "version_minor": 0
      },
      "text/plain": [
       "Filter (num_proc=4):   0%|          | 0/9737 [00:00<?, ? examples/s]"
      ]
     },
     "metadata": {},
     "output_type": "display_data"
    },
    {
     "name": "stderr",
     "output_type": "stream",
     "text": [
      "/home/jarning/miniconda3/envs/Geneformer-env/lib/python3.11/site-packages/datasets/table.py:1387: FutureWarning: promote has been superseded by mode='default'.\n",
      "  return cls._concat_blocks(pa_tables_to_concat_vertically, axis=0)\n",
      "/home/jarning/miniconda3/envs/Geneformer-env/lib/python3.11/site-packages/datasets/table.py:1387: FutureWarning: promote has been superseded by mode='default'.\n",
      "  return cls._concat_blocks(pa_tables_to_concat_vertically, axis=0)\n",
      "/home/jarning/miniconda3/envs/Geneformer-env/lib/python3.11/site-packages/datasets/table.py:1387: FutureWarning: promote has been superseded by mode='default'.\n",
      "  return cls._concat_blocks(pa_tables_to_concat_vertically, axis=0)\n",
      "/home/jarning/miniconda3/envs/Geneformer-env/lib/python3.11/site-packages/datasets/table.py:1387: FutureWarning: promote has been superseded by mode='default'.\n",
      "  return cls._concat_blocks(pa_tables_to_concat_vertically, axis=0)\n",
      "/home/jarning/miniconda3/envs/Geneformer-env/lib/python3.11/site-packages/datasets/table.py:1421: FutureWarning: promote has been superseded by mode='default'.\n",
      "  table = cls._concat_blocks(blocks, axis=0)\n"
     ]
    },
    {
     "data": {
      "application/vnd.jupyter.widget-view+json": {
       "model_id": "4e73a8b4ddeb442eb0686d3ff4143f1e",
       "version_major": 2,
       "version_minor": 0
      },
      "text/plain": [
       "Filter (num_proc=4):   0%|          | 0/9737 [00:00<?, ? examples/s]"
      ]
     },
     "metadata": {},
     "output_type": "display_data"
    },
    {
     "name": "stderr",
     "output_type": "stream",
     "text": [
      "/home/jarning/miniconda3/envs/Geneformer-env/lib/python3.11/site-packages/datasets/table.py:1387: FutureWarning: promote has been superseded by mode='default'.\n",
      "  return cls._concat_blocks(pa_tables_to_concat_vertically, axis=0)\n",
      "/home/jarning/miniconda3/envs/Geneformer-env/lib/python3.11/site-packages/datasets/table.py:1387: FutureWarning: promote has been superseded by mode='default'.\n",
      "  return cls._concat_blocks(pa_tables_to_concat_vertically, axis=0)\n",
      "/home/jarning/miniconda3/envs/Geneformer-env/lib/python3.11/site-packages/datasets/table.py:1387: FutureWarning: promote has been superseded by mode='default'.\n",
      "  return cls._concat_blocks(pa_tables_to_concat_vertically, axis=0)\n",
      "/home/jarning/miniconda3/envs/Geneformer-env/lib/python3.11/site-packages/datasets/table.py:1387: FutureWarning: promote has been superseded by mode='default'.\n",
      "  return cls._concat_blocks(pa_tables_to_concat_vertically, axis=0)\n",
      "/home/jarning/miniconda3/envs/Geneformer-env/lib/python3.11/site-packages/datasets/table.py:1421: FutureWarning: promote has been superseded by mode='default'.\n",
      "  table = cls._concat_blocks(blocks, axis=0)\n"
     ]
    }
   ],
   "source": [
    "data = load_from_disk('tokenize-data/iPSC_GSE118258_2.dataset/')\n",
    "data = data.filter(lambda x: x['time_point'] in ['D0', 'D16_positive'])\n",
    "data = data.map(trunc_and_pad_input_id, num_proc=4)\n",
    "## generate the gene_list\n",
    "data1 = data.filter(lambda x: x['time_point'] == 'D0', num_proc=4)\n",
    "data2 = data.filter(lambda x: x['time_point'] == 'D16_positive', num_proc=4)"
   ]
  },
  {
   "cell_type": "code",
   "execution_count": 6,
   "id": "0cf700db-be4f-49de-9e8b-556ed50cdc90",
   "metadata": {
    "tags": []
   },
   "outputs": [],
   "source": [
    "import itertools"
   ]
  },
  {
   "cell_type": "code",
   "execution_count": 10,
   "id": "1159c71b-023e-4369-a650-6f7d1638bd9b",
   "metadata": {
    "tags": []
   },
   "outputs": [
    {
     "data": {
      "text/plain": [
       "{1, 2, 3, 4, 5}"
      ]
     },
     "execution_count": 10,
     "metadata": {},
     "output_type": "execute_result"
    }
   ],
   "source": [
    "set(itertools.chain.from_iterable([[1,2,3],[3,4,5]]))"
   ]
  },
  {
   "cell_type": "code",
   "execution_count": 13,
   "id": "54826ce2-1775-4f94-b0f4-44ecd22b61c7",
   "metadata": {
    "tags": []
   },
   "outputs": [
    {
     "data": {
      "text/plain": [
       "[1, 2]"
      ]
     },
     "execution_count": 13,
     "metadata": {},
     "output_type": "execute_result"
    }
   ],
   "source": [
    "[1,2,3,4,5,6][0:-4]"
   ]
  },
  {
   "cell_type": "code",
   "execution_count": 16,
   "id": "e01f7a86-64fa-49c2-bc87-75fc5a738cc7",
   "metadata": {
    "tags": []
   },
   "outputs": [
    {
     "data": {
      "text/plain": [
       "11286"
      ]
     },
     "execution_count": 16,
     "metadata": {},
     "output_type": "execute_result"
    }
   ],
   "source": [
    "import itertools\n",
    "genes_origin = [x[0:-4] for x in data1['input_ids_pad']]\n",
    "genes_origin = set(itertools.chain.from_iterable(genes_origin))\n",
    "genes_target = set(itertools.chain.from_iterable(data2['input_ids']))\n",
    "genes = list(genes_origin & genes_target)\n",
    "len(genes)"
   ]
  },
  {
   "cell_type": "code",
   "execution_count": 20,
   "id": "ea8bad81-3c1c-481f-9526-5fe5f13e51f0",
   "metadata": {
    "tags": []
   },
   "outputs": [],
   "source": [
    "genes # tokens\n",
    "token2idx = {genes[i]:i for i in range(len(genes))} # token to position\n",
    "token2idx\n",
    "None"
   ]
  },
  {
   "cell_type": "markdown",
   "id": "c6c714eb-78b4-48cf-b953-95fba829c3a2",
   "metadata": {},
   "source": [
    "## 1. Gene embeddings in target state"
   ]
  },
  {
   "cell_type": "code",
   "execution_count": 23,
   "id": "0658612d-80c5-4dea-8997-6963b4cee68f",
   "metadata": {
    "tags": []
   },
   "outputs": [],
   "source": [
    "loader = torch.utils.data.DataLoader(\n",
    "    data2,\n",
    "    batch_size=10, ##适当调低batch_size可以降低对显存的占用，10：6G显存\n",
    "    drop_last=False, \n",
    "    shuffle=False, \n",
    "    num_workers=4, \n",
    "    collate_fn=collate_fn\n",
    ")"
   ]
  },
  {
   "cell_type": "code",
   "execution_count": 50,
   "id": "bc924af0-7784-4586-b830-2e25604d7510",
   "metadata": {
    "tags": []
   },
   "outputs": [],
   "source": [
    "# 计算每种状态的细胞中的gene embeddings的总和和基因的频数\n",
    "def calculate_cumulative_gene_embeddings(gene_embeddings, gene_freqs, token2idx, input_ids, hidden_state):\n",
    "    batch_size = input_ids.shape[0] # 10\n",
    "    for bs in range(batch_size):\n",
    "        _input_ids = input_ids[bs] # shape [2048]\n",
    "        _hidden_state = hidden_state[bs] # shape [2048, 256]\n",
    "        \n",
    "        idx1 = [i.item() in token2idx for i in _input_ids] # True, False\n",
    "        idx2 = [token2idx[i.item()] for i in _input_ids if i.item() in token2idx]\n",
    "        gene_embeddings[idx2, :] += _hidden_state[idx1, :].to('cpu')\n",
    "        gene_freqs[idx2] += 1\n",
    "    return gene_embeddings, gene_freqs"
   ]
  },
  {
   "cell_type": "code",
   "execution_count": 30,
   "id": "729edda8-9d7c-4f6c-bb78-4e9bae4fe372",
   "metadata": {
    "tags": []
   },
   "outputs": [
    {
     "name": "stderr",
     "output_type": "stream",
     "text": [
      "100%|█████████████████████████████████████████████████████| 266/266 [05:52<00:00,  1.33s/it]"
     ]
    },
    {
     "name": "stdout",
     "output_type": "stream",
     "text": [
      "CPU times: user 9min 47s, sys: 29.9 s, total: 10min 17s\n",
      "Wall time: 5min 52s\n"
     ]
    },
    {
     "name": "stderr",
     "output_type": "stream",
     "text": [
      "\n"
     ]
    }
   ],
   "source": [
    "%%time\n",
    "from tqdm import tqdm\n",
    "\n",
    "## 初始化一个gene_embeddings，记录gene embedding的和\n",
    "gene_embeddings = torch.zeros(len(genes), 256)\n",
    "gene_embeddings.shape\n",
    "## 初始化一个gene_freqs，记录基因出现的频数\n",
    "gene_freqs = torch.zeros(len(genes))\n",
    "gene_freqs.shape\n",
    "\n",
    "## 如果你有GPU，那么使用如下代码进行推理\n",
    "device = torch.device('cuda', 0)\n",
    "if model.device != device:\n",
    "    model = model.to(device)\n",
    "for i, (input_ids, attention_mask) in tqdm(enumerate(loader), total = len(loader)):\n",
    "    input_ids = input_ids.to(device)\n",
    "    attention_mask = attention_mask.to(device)\n",
    "    with torch.no_grad():\n",
    "        outputs = model(input_ids = input_ids, attention_mask = attention_mask)\n",
    "    hidden_state = outputs.hidden_states[-1] ## fine-tuned model, set to last layer(-1) # [10, 2048, 256]\n",
    "    gene_embeddings, gene_freqs = calculate_cumulative_gene_embeddings(gene_embeddings, gene_freqs, token2idx, input_ids, hidden_state)"
   ]
  },
  {
   "cell_type": "code",
   "execution_count": 45,
   "id": "8d248caf-d118-4e20-a986-50f86b886f36",
   "metadata": {
    "tags": []
   },
   "outputs": [
    {
     "data": {
      "text/plain": [
       "tensor([[-1.4300e+03,  3.1692e+03,  4.5006e+02,  ...,  2.9930e+02,\n",
       "         -2.7307e+01, -5.0046e+03],\n",
       "        [-1.6318e+03,  3.7743e+03,  1.1562e+03,  ...,  1.4589e+03,\n",
       "          8.1491e+02, -5.3735e+03],\n",
       "        [ 1.4810e-01, -8.2263e-01,  5.1659e-01,  ..., -5.6015e-01,\n",
       "         -1.7136e-02, -1.3153e+00],\n",
       "        ...,\n",
       "        [-2.5341e+01,  3.2972e+01,  1.5658e+01,  ..., -2.4092e+01,\n",
       "          1.6684e+01, -6.1241e+01],\n",
       "        [-2.8709e+00,  7.7010e+00,  2.0724e+00,  ..., -3.6200e+00,\n",
       "          5.7827e-01, -7.6242e+00],\n",
       "        [-5.6709e+00,  9.1097e+00,  5.8586e+00,  ..., -8.5117e-01,\n",
       "         -8.1972e-01, -1.2503e+01]])"
      ]
     },
     "execution_count": 45,
     "metadata": {},
     "output_type": "execute_result"
    }
   ],
   "source": [
    "gene_embeddings"
   ]
  },
  {
   "cell_type": "code",
   "execution_count": 41,
   "id": "7cc9dc27-91a3-486b-be13-8b62fc09d5f7",
   "metadata": {
    "tags": []
   },
   "outputs": [
    {
     "data": {
      "text/plain": [
       "torch.Size([11286, 256])"
      ]
     },
     "execution_count": 41,
     "metadata": {},
     "output_type": "execute_result"
    }
   ],
   "source": [
    "gene_freqs = gene_freqs.reshape(gene_embeddings.shape[0], 1)\n",
    "average_gene_embeddings = gene_embeddings / gene_freqs \n",
    "average_gene_embeddings.shape"
   ]
  },
  {
   "cell_type": "code",
   "execution_count": 47,
   "id": "a3d49119-177f-4920-a8bf-d16b455293ad",
   "metadata": {
    "tags": []
   },
   "outputs": [],
   "source": [
    "! mkdir isp1203/iPSC_GSE118258"
   ]
  },
  {
   "cell_type": "code",
   "execution_count": 49,
   "id": "4fdf519f-c343-4746-b627-7ef1b9f4e0db",
   "metadata": {
    "tags": []
   },
   "outputs": [],
   "source": [
    "torch.save(average_gene_embeddings, 'isp1203/iPSC_GSE118258/gene_embeddings_target.pt')"
   ]
  },
  {
   "cell_type": "markdown",
   "id": "8945a43e-16d4-4092-896b-1c83c614664e",
   "metadata": {},
   "source": [
    "## 2. Gene embeddings in original state"
   ]
  },
  {
   "cell_type": "code",
   "execution_count": 51,
   "id": "5a9a3fe1-9865-4270-857b-2a84d4612d32",
   "metadata": {
    "tags": []
   },
   "outputs": [],
   "source": [
    "loader = torch.utils.data.DataLoader(\n",
    "    data1,\n",
    "    batch_size=10, ##适当调低batch_size可以降低对显存的占用，10：6G显存\n",
    "    drop_last=False, \n",
    "    shuffle=False, \n",
    "    num_workers=4, \n",
    "    collate_fn=collate_fn\n",
    ")"
   ]
  },
  {
   "cell_type": "code",
   "execution_count": 52,
   "id": "05fc07dc-f7b6-4023-9a77-9463fa00f7d5",
   "metadata": {
    "tags": []
   },
   "outputs": [
    {
     "name": "stderr",
     "output_type": "stream",
     "text": [
      "100%|█████████████████████████████████████████████████████| 708/708 [16:09<00:00,  1.37s/it]"
     ]
    },
    {
     "name": "stdout",
     "output_type": "stream",
     "text": [
      "CPU times: user 26min 41s, sys: 1min 18s, total: 27min 59s\n",
      "Wall time: 16min 9s\n"
     ]
    },
    {
     "name": "stderr",
     "output_type": "stream",
     "text": [
      "\n"
     ]
    }
   ],
   "source": [
    "%%time\n",
    "from tqdm import tqdm\n",
    "\n",
    "## 初始化一个gene_embeddings，记录gene embedding的和\n",
    "gene_embeddings = torch.zeros(len(genes), 256)\n",
    "gene_embeddings.shape\n",
    "## 初始化一个gene_freqs，记录基因出现的频数\n",
    "gene_freqs = torch.zeros(len(genes))\n",
    "gene_freqs.shape\n",
    "\n",
    "## 如果你有GPU，那么使用如下代码进行推理\n",
    "device = torch.device('cuda', 0)\n",
    "if model.device != device:\n",
    "    model = model.to(device)\n",
    "for i, (input_ids, attention_mask) in tqdm(enumerate(loader), total = len(loader)):\n",
    "    input_ids = input_ids.to(device)\n",
    "    attention_mask = attention_mask.to(device)\n",
    "    with torch.no_grad():\n",
    "        outputs = model(input_ids = input_ids, attention_mask = attention_mask)\n",
    "    hidden_state = outputs.hidden_states[-1] ## fine-tuned model, set to last layer(-1) # [10, 2048, 256]\n",
    "    gene_embeddings, gene_freqs = calculate_cumulative_gene_embeddings(gene_embeddings, gene_freqs, token2idx, input_ids, hidden_state)"
   ]
  },
  {
   "cell_type": "code",
   "execution_count": 53,
   "id": "82e5bbe4-68ee-4590-bfaa-c31bc5d16ff3",
   "metadata": {
    "tags": []
   },
   "outputs": [
    {
     "data": {
      "text/plain": [
       "torch.Size([11286, 256])"
      ]
     },
     "execution_count": 53,
     "metadata": {},
     "output_type": "execute_result"
    }
   ],
   "source": [
    "gene_freqs = gene_freqs.reshape(gene_embeddings.shape[0], 1)\n",
    "average_gene_embeddings = gene_embeddings / gene_freqs \n",
    "average_gene_embeddings.shape"
   ]
  },
  {
   "cell_type": "code",
   "execution_count": 54,
   "id": "ea4ebc00-59cd-463c-960d-3a62e1254c13",
   "metadata": {
    "tags": []
   },
   "outputs": [],
   "source": [
    "torch.save(average_gene_embeddings, 'isp1203/iPSC_GSE118258/gene_embeddings_origin.pt')"
   ]
  },
  {
   "cell_type": "markdown",
   "id": "26882b5d-074e-4012-b89d-6b10b9ffa93c",
   "metadata": {},
   "source": [
    "## 3. Gene embeddings in OSKM+original state"
   ]
  },
  {
   "cell_type": "code",
   "execution_count": 55,
   "id": "21727d7e-4405-4ca9-bf28-f668860e7d35",
   "metadata": {
    "tags": []
   },
   "outputs": [],
   "source": [
    "def overexpress(x, id_list):\n",
    "    input_id = x['input_ids_pad']\n",
    "    input_id = [x for x in input_id if x not in id_list]\n",
    "    input_id = id_list + input_id\n",
    "    return {'input_ids_perturbed': input_id[0:2048]}\n",
    "\n",
    "def collate_fn2(data):\n",
    "    input_ids = [np.array(i['input_ids_perturbed']) for i in data]\n",
    "    # 转换为tensor\n",
    "    input_ids = torch.tensor(np.array(input_ids), dtype=torch.int32)\n",
    "    attention_mask = (input_ids > 0).to(torch.int32)\n",
    "    return input_ids, attention_mask"
   ]
  },
  {
   "cell_type": "code",
   "execution_count": 56,
   "id": "93aab3a6-a451-4ed0-933c-bc575f1f4b07",
   "metadata": {
    "tags": []
   },
   "outputs": [
    {
     "data": {
      "text/plain": [
       "[17679, 14712, 7301, 7352]"
      ]
     },
     "execution_count": 56,
     "metadata": {},
     "output_type": "execute_result"
    }
   ],
   "source": [
    "## OCT4(POU5F1) ENSG00000204531\n",
    "## SOX2         ENSG00000181449\n",
    "## KLF4         ENSG00000136826\n",
    "## MYC          ENSG00000136997\n",
    "target_genes = ['ENSG00000204531', 'ENSG00000181449', 'ENSG00000136826', 'ENSG00000136997']\n",
    "target_ids = [token_dictionary[i] for i in target_genes]\n",
    "target_ids"
   ]
  },
  {
   "cell_type": "code",
   "execution_count": 57,
   "id": "25e10dc4-f557-40e8-b17f-1e8a2c6440f1",
   "metadata": {
    "tags": []
   },
   "outputs": [
    {
     "data": {
      "application/vnd.jupyter.widget-view+json": {
       "model_id": "428c438b182b4de49fc8ec2ce9323d68",
       "version_major": 2,
       "version_minor": 0
      },
      "text/plain": [
       "Map (num_proc=4):   0%|          | 0/7079 [00:00<?, ? examples/s]"
      ]
     },
     "metadata": {},
     "output_type": "display_data"
    },
    {
     "name": "stderr",
     "output_type": "stream",
     "text": [
      "/home/jarning/miniconda3/envs/Geneformer-env/lib/python3.11/site-packages/datasets/table.py:1387: FutureWarning: promote has been superseded by mode='default'.\n",
      "  return cls._concat_blocks(pa_tables_to_concat_vertically, axis=0)\n",
      "/home/jarning/miniconda3/envs/Geneformer-env/lib/python3.11/site-packages/datasets/table.py:1387: FutureWarning: promote has been superseded by mode='default'.\n",
      "  return cls._concat_blocks(pa_tables_to_concat_vertically, axis=0)\n",
      "/home/jarning/miniconda3/envs/Geneformer-env/lib/python3.11/site-packages/datasets/table.py:1387: FutureWarning: promote has been superseded by mode='default'.\n",
      "  return cls._concat_blocks(pa_tables_to_concat_vertically, axis=0)\n",
      "/home/jarning/miniconda3/envs/Geneformer-env/lib/python3.11/site-packages/datasets/table.py:1387: FutureWarning: promote has been superseded by mode='default'.\n",
      "  return cls._concat_blocks(pa_tables_to_concat_vertically, axis=0)\n",
      "/home/jarning/miniconda3/envs/Geneformer-env/lib/python3.11/site-packages/datasets/table.py:1421: FutureWarning: promote has been superseded by mode='default'.\n",
      "  table = cls._concat_blocks(blocks, axis=0)\n"
     ]
    }
   ],
   "source": [
    "data1 = data1.map(overexpress, num_proc=4, fn_kwargs={'id_list': target_ids})"
   ]
  },
  {
   "cell_type": "code",
   "execution_count": 58,
   "id": "6576d990-d088-4857-a9a6-1e20322f7202",
   "metadata": {
    "tags": []
   },
   "outputs": [
    {
     "data": {
      "text/plain": [
       "[tensor([17679, 14712,  7301,  7352,  5592, 20053, 16725,  5368,  2183,  5401],\n",
       "        dtype=torch.int32),\n",
       " tensor([17679, 14712,  7301,  7352, 20053,  3481, 17126,  7923,  2183, 11143],\n",
       "        dtype=torch.int32),\n",
       " tensor([17679, 14712,  7301,  7352,  1720,  2183, 17126, 12172,  4686,  4415],\n",
       "        dtype=torch.int32),\n",
       " tensor([17679, 14712,  7301,  7352,  7923, 14947,  2183, 17126, 20053,  5298],\n",
       "        dtype=torch.int32),\n",
       " tensor([17679, 14712,  7301,  7352, 20053, 16725, 11143,  2183,  5368,  7923],\n",
       "        dtype=torch.int32)]"
      ]
     },
     "execution_count": 58,
     "metadata": {},
     "output_type": "execute_result"
    }
   ],
   "source": [
    "input_ids, attention_mask = collate_fn2(data1.select(range(5)))\n",
    "[i[0:10] for i in input_ids]"
   ]
  },
  {
   "cell_type": "code",
   "execution_count": 59,
   "id": "4388cd0d-be8f-4649-b69e-83dad86fe846",
   "metadata": {
    "tags": []
   },
   "outputs": [],
   "source": [
    "loader = torch.utils.data.DataLoader(\n",
    "    data1,\n",
    "    batch_size=10, ##适当调低batch_size可以降低对显存的占用，10：6G显存\n",
    "    drop_last=False, \n",
    "    shuffle=False, \n",
    "    num_workers=4, \n",
    "    collate_fn=collate_fn2\n",
    ")"
   ]
  },
  {
   "cell_type": "code",
   "execution_count": 60,
   "id": "f6ad60da-2040-48cc-974e-f7aa46058cf5",
   "metadata": {
    "tags": []
   },
   "outputs": [
    {
     "name": "stderr",
     "output_type": "stream",
     "text": [
      "100%|█████████████████████████████████████████████████████| 708/708 [16:02<00:00,  1.36s/it]"
     ]
    },
    {
     "name": "stdout",
     "output_type": "stream",
     "text": [
      "CPU times: user 26min 40s, sys: 1min 19s, total: 27min 59s\n",
      "Wall time: 16min 2s\n"
     ]
    },
    {
     "name": "stderr",
     "output_type": "stream",
     "text": [
      "\n"
     ]
    }
   ],
   "source": [
    "%%time\n",
    "from tqdm import tqdm\n",
    "\n",
    "## 初始化一个gene_embeddings，记录gene embedding的和\n",
    "gene_embeddings = torch.zeros(len(genes), 256)\n",
    "gene_embeddings.shape\n",
    "## 初始化一个gene_freqs，记录基因出现的频数\n",
    "gene_freqs = torch.zeros(len(genes))\n",
    "gene_freqs.shape\n",
    "\n",
    "## 如果你有GPU，那么使用如下代码进行推理\n",
    "device = torch.device('cuda', 0)\n",
    "if model.device != device:\n",
    "    model = model.to(device)\n",
    "for i, (input_ids, attention_mask) in tqdm(enumerate(loader), total = len(loader)):\n",
    "    input_ids = input_ids.to(device)\n",
    "    attention_mask = attention_mask.to(device)\n",
    "    with torch.no_grad():\n",
    "        outputs = model(input_ids = input_ids, attention_mask = attention_mask)\n",
    "    hidden_state = outputs.hidden_states[-1] ## fine-tuned model, set to last layer(-1) # [10, 2048, 256]\n",
    "    gene_embeddings, gene_freqs = calculate_cumulative_gene_embeddings(gene_embeddings, gene_freqs, token2idx, input_ids, hidden_state)"
   ]
  },
  {
   "cell_type": "code",
   "execution_count": 61,
   "id": "d9672043-b0a0-40ac-bfdb-0ee083591eb4",
   "metadata": {
    "tags": []
   },
   "outputs": [
    {
     "data": {
      "text/plain": [
       "torch.Size([11286, 256])"
      ]
     },
     "execution_count": 61,
     "metadata": {},
     "output_type": "execute_result"
    }
   ],
   "source": [
    "gene_freqs = gene_freqs.reshape(gene_embeddings.shape[0], 1)\n",
    "average_gene_embeddings = gene_embeddings / gene_freqs \n",
    "average_gene_embeddings.shape"
   ]
  },
  {
   "cell_type": "code",
   "execution_count": 62,
   "id": "64890905-3fbd-4785-aaad-c73a1375ada6",
   "metadata": {
    "tags": []
   },
   "outputs": [],
   "source": [
    "torch.save(average_gene_embeddings, 'isp1203/iPSC_GSE118258/gene_embeddings_origin_OSKM.pt')"
   ]
  },
  {
   "cell_type": "markdown",
   "id": "6fd97f8f-54e2-40cf-a6f4-5e7cfb782c3a",
   "metadata": {},
   "source": [
    "## 4. Gene embeddings in RANDOM+original state"
   ]
  },
  {
   "cell_type": "code",
   "execution_count": 78,
   "id": "8d61b937-9be2-4514-b315-9b2330cab9d0",
   "metadata": {
    "tags": []
   },
   "outputs": [
    {
     "data": {
      "text/plain": [
       "[15509, 14750, 16241, 22184]"
      ]
     },
     "execution_count": 78,
     "metadata": {},
     "output_type": "execute_result"
    }
   ],
   "source": [
    "import random\n",
    "token_list = list(token_dictionary.values())\n",
    "random.seed(1024)\n",
    "random.shuffle(token_list)\n",
    "random_list = [x for x in token_list[0:200] if x not in target_ids][0:4]\n",
    "random_list"
   ]
  },
  {
   "cell_type": "code",
   "execution_count": 80,
   "id": "5984d5b3-605f-45b9-8c41-ef36f9518d14",
   "metadata": {
    "tags": []
   },
   "outputs": [],
   "source": [
    "nekot_dict = {v:k for k,v in token_dictionary.items()}"
   ]
  },
  {
   "cell_type": "code",
   "execution_count": 82,
   "id": "35b020a9-cf16-49de-8f88-7d437e53fe0e",
   "metadata": {
    "tags": []
   },
   "outputs": [
    {
     "data": {
      "text/plain": [
       "['ENSG00000185220', 'ENSG00000181718', 'ENSG00000188620', 'ENSG00000264771']"
      ]
     },
     "execution_count": 82,
     "metadata": {},
     "output_type": "execute_result"
    }
   ],
   "source": [
    "[nekot_dict[x] for x in random_list]"
   ]
  },
  {
   "cell_type": "code",
   "execution_count": 83,
   "id": "a8efc8fe-4614-48b4-8f3e-28b8e1d5cd64",
   "metadata": {
    "tags": []
   },
   "outputs": [
    {
     "data": {
      "application/vnd.jupyter.widget-view+json": {
       "model_id": "5973d04cba604c599845885edd260545",
       "version_major": 2,
       "version_minor": 0
      },
      "text/plain": [
       "Map (num_proc=4):   0%|          | 0/7079 [00:00<?, ? examples/s]"
      ]
     },
     "metadata": {},
     "output_type": "display_data"
    },
    {
     "name": "stderr",
     "output_type": "stream",
     "text": [
      "/home/jarning/miniconda3/envs/Geneformer-env/lib/python3.11/site-packages/datasets/table.py:1387: FutureWarning: promote has been superseded by mode='default'.\n",
      "  return cls._concat_blocks(pa_tables_to_concat_vertically, axis=0)\n",
      "/home/jarning/miniconda3/envs/Geneformer-env/lib/python3.11/site-packages/datasets/table.py:1387: FutureWarning: promote has been superseded by mode='default'.\n",
      "  return cls._concat_blocks(pa_tables_to_concat_vertically, axis=0)\n",
      "/home/jarning/miniconda3/envs/Geneformer-env/lib/python3.11/site-packages/datasets/table.py:1387: FutureWarning: promote has been superseded by mode='default'.\n",
      "  return cls._concat_blocks(pa_tables_to_concat_vertically, axis=0)\n",
      "/home/jarning/miniconda3/envs/Geneformer-env/lib/python3.11/site-packages/datasets/table.py:1387: FutureWarning: promote has been superseded by mode='default'.\n",
      "  return cls._concat_blocks(pa_tables_to_concat_vertically, axis=0)\n",
      "/home/jarning/miniconda3/envs/Geneformer-env/lib/python3.11/site-packages/datasets/table.py:1421: FutureWarning: promote has been superseded by mode='default'.\n",
      "  table = cls._concat_blocks(blocks, axis=0)\n"
     ]
    }
   ],
   "source": [
    "data1 = data1.map(overexpress, num_proc=4, fn_kwargs={'id_list': random_list})"
   ]
  },
  {
   "cell_type": "code",
   "execution_count": 84,
   "id": "6746284c-8be5-4287-85de-53f41e2d7f23",
   "metadata": {
    "tags": []
   },
   "outputs": [
    {
     "data": {
      "text/plain": [
       "[tensor([15509, 14750, 16241, 22184,  5592, 20053, 16725,  5368,  2183,  5401],\n",
       "        dtype=torch.int32),\n",
       " tensor([15509, 14750, 16241, 22184, 20053,  3481, 17126,  7923,  2183, 11143],\n",
       "        dtype=torch.int32),\n",
       " tensor([15509, 14750, 16241, 22184,  1720,  2183, 17126, 12172,  4686,  4415],\n",
       "        dtype=torch.int32),\n",
       " tensor([15509, 14750, 16241, 22184,  7923, 14947,  2183, 17126, 20053,  5298],\n",
       "        dtype=torch.int32),\n",
       " tensor([15509, 14750, 16241, 22184, 20053, 16725, 11143,  2183,  5368,  7923],\n",
       "        dtype=torch.int32)]"
      ]
     },
     "execution_count": 84,
     "metadata": {},
     "output_type": "execute_result"
    }
   ],
   "source": [
    "input_ids, attention_mask = collate_fn2(data1.select(range(5)))\n",
    "[i[0:10] for i in input_ids]"
   ]
  },
  {
   "cell_type": "code",
   "execution_count": 86,
   "id": "52eeba4e-0b6e-4081-99a7-aa5d598e0c0a",
   "metadata": {
    "tags": []
   },
   "outputs": [],
   "source": [
    "loader = torch.utils.data.DataLoader(\n",
    "    data1,\n",
    "    batch_size=10, ##适当调低batch_size可以降低对显存的占用，10：6G显存\n",
    "    drop_last=False, \n",
    "    shuffle=False, \n",
    "    num_workers=4, \n",
    "    collate_fn=collate_fn2\n",
    ")"
   ]
  },
  {
   "cell_type": "code",
   "execution_count": 87,
   "id": "a4ffebcc-e96d-4c58-aad8-2fe9607b4ac3",
   "metadata": {
    "tags": []
   },
   "outputs": [
    {
     "name": "stderr",
     "output_type": "stream",
     "text": [
      "100%|█████████████████████████████████████████████████████| 708/708 [16:11<00:00,  1.37s/it]"
     ]
    },
    {
     "name": "stdout",
     "output_type": "stream",
     "text": [
      "CPU times: user 26min 40s, sys: 1min 17s, total: 27min 57s\n",
      "Wall time: 16min 11s\n"
     ]
    },
    {
     "name": "stderr",
     "output_type": "stream",
     "text": [
      "\n"
     ]
    }
   ],
   "source": [
    "%%time\n",
    "from tqdm import tqdm\n",
    "\n",
    "## 初始化一个gene_embeddings，记录gene embedding的和\n",
    "gene_embeddings = torch.zeros(len(genes), 256)\n",
    "gene_embeddings.shape\n",
    "## 初始化一个gene_freqs，记录基因出现的频数\n",
    "gene_freqs = torch.zeros(len(genes))\n",
    "gene_freqs.shape\n",
    "\n",
    "## 如果你有GPU，那么使用如下代码进行推理\n",
    "device = torch.device('cuda', 0)\n",
    "if model.device != device:\n",
    "    model = model.to(device)\n",
    "for i, (input_ids, attention_mask) in tqdm(enumerate(loader), total = len(loader)):\n",
    "    input_ids = input_ids.to(device)\n",
    "    attention_mask = attention_mask.to(device)\n",
    "    with torch.no_grad():\n",
    "        outputs = model(input_ids = input_ids, attention_mask = attention_mask)\n",
    "    hidden_state = outputs.hidden_states[-1] ## fine-tuned model, set to last layer(-1) # [10, 2048, 256]\n",
    "    gene_embeddings, gene_freqs = calculate_cumulative_gene_embeddings(gene_embeddings, gene_freqs, token2idx, input_ids, hidden_state)"
   ]
  },
  {
   "cell_type": "code",
   "execution_count": 88,
   "id": "cadd64e9-c78e-41c6-9350-0d4e581e4ae0",
   "metadata": {
    "tags": []
   },
   "outputs": [
    {
     "data": {
      "text/plain": [
       "torch.Size([11286, 256])"
      ]
     },
     "execution_count": 88,
     "metadata": {},
     "output_type": "execute_result"
    }
   ],
   "source": [
    "gene_freqs = gene_freqs.reshape(gene_embeddings.shape[0], 1)\n",
    "average_gene_embeddings = gene_embeddings / gene_freqs \n",
    "average_gene_embeddings.shape"
   ]
  },
  {
   "cell_type": "code",
   "execution_count": 89,
   "id": "75b847fc-8a4e-4f83-a23b-ce17b8ed26fe",
   "metadata": {
    "tags": []
   },
   "outputs": [],
   "source": [
    "torch.save(average_gene_embeddings, 'isp1203/iPSC_GSE118258/gene_embeddings_origin_random.pt')"
   ]
  },
  {
   "cell_type": "markdown",
   "id": "87cfad1b-fc3a-4c46-9c51-dfb35e1dacf0",
   "metadata": {},
   "source": [
    "## 5. 计算扰动的效应"
   ]
  },
  {
   "cell_type": "code",
   "execution_count": 90,
   "id": "56a3278c-6eb5-4e59-95e5-68d6af2ac0a3",
   "metadata": {
    "tags": []
   },
   "outputs": [],
   "source": [
    "gene_embeddings_origin = torch.load('isp1203/iPSC_GSE118258/gene_embeddings_origin.pt')\n",
    "gene_embeddings_target = torch.load('isp1203/iPSC_GSE118258/gene_embeddings_target.pt')\n",
    "gene_embeddings_test   = torch.load('isp1203/iPSC_GSE118258/gene_embeddings_origin_OSKM.pt')\n",
    "gene_embeddings_random = torch.load('isp1203/iPSC_GSE118258/gene_embeddings_origin_random.pt')"
   ]
  },
  {
   "cell_type": "code",
   "execution_count": 91,
   "id": "6a06f324-b980-4f3a-aae1-edbed03a550c",
   "metadata": {
    "tags": []
   },
   "outputs": [
    {
     "data": {
      "text/plain": [
       "(torch.Size([11286, 256]),)"
      ]
     },
     "execution_count": 91,
     "metadata": {},
     "output_type": "execute_result"
    }
   ],
   "source": [
    "gene_embeddings_origin.shape, \n",
    "gene_embeddings_target.shape, \n",
    "gene_embeddings_test.shape, \n",
    "gene_embeddings_random.shape, "
   ]
  },
  {
   "cell_type": "code",
   "execution_count": 92,
   "id": "38262321-baa5-4201-b699-57e90e515104",
   "metadata": {
    "tags": []
   },
   "outputs": [],
   "source": [
    "sim1 = torch.cosine_similarity(gene_embeddings_origin, gene_embeddings_target)\n",
    "sim2 = torch.cosine_similarity(gene_embeddings_test, gene_embeddings_target)\n",
    "sim3 = torch.cosine_similarity(gene_embeddings_random, gene_embeddings_target)"
   ]
  },
  {
   "cell_type": "code",
   "execution_count": 95,
   "id": "dca81b5a-ec22-4bbc-863b-bf495cb84886",
   "metadata": {
    "tags": []
   },
   "outputs": [],
   "source": [
    "test_effect = sim2 - sim1\n",
    "random_effect = sim3 - sim1"
   ]
  },
  {
   "cell_type": "code",
   "execution_count": 98,
   "id": "dd1e581c-cf34-4195-9078-0195b2b7a8b8",
   "metadata": {
    "tags": []
   },
   "outputs": [
    {
     "name": "stderr",
     "output_type": "stream",
     "text": [
      "/home/jarning/miniconda3/envs/Geneformer-env/lib/python3.11/site-packages/seaborn/_oldcore.py:1498: FutureWarning: is_categorical_dtype is deprecated and will be removed in a future version. Use isinstance(dtype, CategoricalDtype) instead\n",
      "  if pd.api.types.is_categorical_dtype(vector):\n",
      "/home/jarning/miniconda3/envs/Geneformer-env/lib/python3.11/site-packages/seaborn/_oldcore.py:1119: FutureWarning: use_inf_as_na option is deprecated and will be removed in a future version. Convert inf values to NaN before operating instead.\n",
      "  with pd.option_context('mode.use_inf_as_na', True):\n",
      "/home/jarning/miniconda3/envs/Geneformer-env/lib/python3.11/site-packages/seaborn/_oldcore.py:1498: FutureWarning: is_categorical_dtype is deprecated and will be removed in a future version. Use isinstance(dtype, CategoricalDtype) instead\n",
      "  if pd.api.types.is_categorical_dtype(vector):\n",
      "/home/jarning/miniconda3/envs/Geneformer-env/lib/python3.11/site-packages/seaborn/_oldcore.py:1119: FutureWarning: use_inf_as_na option is deprecated and will be removed in a future version. Convert inf values to NaN before operating instead.\n",
      "  with pd.option_context('mode.use_inf_as_na', True):\n"
     ]
    },
    {
     "data": {
      "image/png": "[encoded data removed]",
      "text/plain": [
       "<Figure size 640x480 with 1 Axes>"
      ]
     },
     "metadata": {},
     "output_type": "display_data"
    }
   ],
   "source": [
    "import seaborn as sns\n",
    "import matplotlib.pyplot as plt\n",
    "\n",
    "\n",
    "sns.kdeplot(test_effect.numpy(), label='OKSM')\n",
    "sns.kdeplot(random_effect.numpy(), label='Random')\n",
    "\n",
    "# 添加图例\n",
    "plt.legend()\n",
    "plt.xlim(-0.05, 0.05)\n",
    "\n",
    "# 显示图形\n",
    "plt.show()"
   ]
  },
  {
   "cell_type": "code",
   "execution_count": null,
   "id": "d221b3b7-587a-4a9f-82c9-039976441443",
   "metadata": {},
   "outputs": [],
   "source": []
  }
 ],
 "metadata": {
  "kernelspec": {
   "display_name": "Python [conda env:Geneformer-env]",
   "language": "python",
   "name": "conda-env-Geneformer-env-py"
  },
  "language_info": {
   "codemirror_mode": {
    "name": "ipython",
    "version": 3
   },
   "file_extension": ".py",
   "mimetype": "text/x-python",
   "name": "python",
   "nbconvert_exporter": "python",
   "pygments_lexer": "ipython3",
   "version": "3.11.5"
  }
 },
 "nbformat": 4,
 "nbformat_minor": 5
}
